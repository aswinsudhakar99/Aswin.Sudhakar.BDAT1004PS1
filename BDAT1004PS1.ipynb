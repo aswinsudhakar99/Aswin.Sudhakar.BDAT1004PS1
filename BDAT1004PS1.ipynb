{
 "cells": [
  {
   "cell_type": "markdown",
   "id": "b2d01406-b096-4199-818f-f19e602c8e59",
   "metadata": {},
   "source": [
    "# Question 1\n",
    "What data type is each of the following (evaluate where necessary)?\n",
    "\n",
    "\n",
    "- 5\n",
    "- 5.0\n",
    "- 5 > 1\n",
    "- '5'\n",
    "- 5 * 2\n",
    "- '5' * 2\n",
    "- '5' + '2'\n",
    "- 5 / 2\n",
    "- 5 % 2\n",
    "- {5, 2, 1}\n",
    "- 5 == 3\n",
    "- Pi (the number)the number)\r"
   ]
  },
  {
   "cell_type": "markdown",
   "id": "aea412f1-dab9-47b5-ab36-9ef0aff30b1d",
   "metadata": {},
   "source": [
    "|Value              |Data type            |                \n",
    "| :---              |-----------------:   |           \n",
    "| 5                 |  int                | \n",
    "| 5.0               |  float              |  \n",
    "| 5 > 1             |  bool               |  \n",
    "| '5'               |  str                |  \n",
    "| 5 * 2             |  int                |   \n",
    "| '5' * 2           |  str                |  \n",
    "| '5' + '2'         |  str                |\n",
    "| 5 / 2             |  float              |\n",
    "| 5 % 2             |  int                |\n",
    "| {5, 2, 1}         |  list               |\n",
    "| 5 == 3            |  bool               |\n",
    "| Pi (the number)   |  float              |\n"
   ]
  },
  {
   "cell_type": "markdown",
   "id": "51cf5c1b-1978-44b4-80ce-83c0bd4e50e1",
   "metadata": {},
   "source": [
    "## QUESTION 2\n",
    "\n",
    "#### Write (and evaluate) python expressions that answer these questions:\n",
    "\n",
    "- a. How many letters are there in *'Supercalifragilisticexpialidocios'*?\n",
    "\n",
    "- b. Does *'Supercalifragilisticexpialidocious'* contain *'ice'* as a substring?\n",
    "\n",
    "- c. Which of the following words is the longest: SSupercalifragilisticexpialidocious, Honorificabilitudinitatibus, or Bababadalgharaghtakamminarronnkonn?\n",
    "  \n",
    "- d. Which composer comes first in the dictionary: 'Berlioz', 'Borodin', 'Bria', 'Bartok', 'Bellini', 'Buxtehude', 'Bernstein'.\n",
    "  Which one comes last?last? "
   ]
  },
  {
   "cell_type": "code",
   "execution_count": 43,
   "id": "49fb0c48-159d-4f46-a012-806066bd5e63",
   "metadata": {},
   "outputs": [
    {
     "name": "stdout",
     "output_type": "stream",
     "text": [
      "34\n",
      "True\n",
      "Supercalifragilisticexpialidocious\n",
      "First composer name in dictionary : Bartok\n",
      "Last composer name in dictionary: Buxtehude\n"
     ]
    }
   ],
   "source": [
    "# a. To find number of letters\n",
    "given_word = 'Supercalifragilisticexpialidocious'\n",
    "number_character = len(given_word)\n",
    "print (number_character)\n",
    "\n",
    "# b.To find if 'Supercalifragilisticexpialidocious' contain 'ice' as a substring\n",
    "\n",
    "given_word = 'Supercalifragilisticexpialidocious'\n",
    "print('ice' in 'Supercalifragilisticexpialidocious')\n",
    "\n",
    "# c. Which of the following words is the longest: Supercalifragilisticexpialidocious, Honorificabilitudinitatibus, or Bababadalgharaghtakamminarronnkonn?\n",
    "\n",
    "given_word = ['Supercalifragilisticexpialidocious', 'Honorificabilitudinitatibus' , 'Bababadalgharaghtakamminarronnkonn']\n",
    "\n",
    "longest_word = \" \"                           #to store the longest word\n",
    "for word in given_word:                      #For loop to find the logest word\n",
    "    if len(word) > len(longest_word):\n",
    "       longest_word = word\n",
    "\n",
    "print(longest_word)\n",
    "\n",
    "# d. Which composer comes first in the dictionary: 'Berlioz', 'Borodin', 'Brian', 'Bartok', 'Bellini', 'Buxtehude', 'Bernstein'. Which one comes last\n",
    "\n",
    "# List of composers\n",
    "composers = ['Berlioz', 'Borodin', 'Brian', 'Bartok', 'Bellini', 'Buxtehude', 'Bernstein']\n",
    "\n",
    "# Bubble sort implementation\n",
    "def bubble_sort(words):\n",
    "    n = len(words)\n",
    "    for k in range(n):\n",
    "        for l in range(0, n-k-1):\n",
    "            if words[l] > words[l+1]:\n",
    "                 words[l], words[l+1] = words[l+1], words[l]\n",
    "    return words\n",
    "\n",
    "# Sort the composers list\n",
    "sorted_composers = bubble_sort(composers)\n",
    "\n",
    "# Get the first and last composer in the sorted list\n",
    "first_composer = sorted_composers[0]\n",
    "last_composer = sorted_composers[-1]\n",
    "\n",
    "# Print the results\n",
    "print(\"First composer name in dictionary :\", first_composer)\n",
    "print(\"Last composer name in dictionary:\", last_composer)\n",
    "\n",
    "\n",
    "\n"
   ]
  },
  {
   "cell_type": "markdown",
   "id": "0c5fa4f9-48e9-431c-bce6-de2c62e20c30",
   "metadata": {},
   "source": [
    "## QUESTION 3\n",
    "\n",
    "###### Implement function triangleArea(a,b,c) that takes as input the lengths of the 3 sides of a triangle and returns the area of the triangle. \n",
    "###### By Heron's formula, the area of a triangle with side lengths a, b, and c is s(s - a)(s -b)(s -c), where s = (a +b + c) /2.\n",
    "\n",
    "- triangleArea(2,2,2)\n",
    "- 1.73205080756887725688772"
   ]
  },
  {
   "cell_type": "code",
   "execution_count": 50,
   "id": "4ac8ebb2-a318-4c40-83b1-f0981d0dc475",
   "metadata": {},
   "outputs": [
    {
     "name": "stdin",
     "output_type": "stream",
     "text": [
      "Enter the length for side a 2\n",
      "Enter the length for side b 2\n",
      "Enter the length for side c 2\n"
     ]
    },
    {
     "data": {
      "text/plain": [
       "1.7320508075688772"
      ]
     },
     "execution_count": 50,
     "metadata": {},
     "output_type": "execute_result"
    }
   ],
   "source": [
    "import math\n",
    "def triangleArea():\n",
    "    a = float(input (\"Enter the length for side a\"))\n",
    "    b = float(input (\"Enter the length for side b\"))\n",
    "    c = float(input (\"Enter the length for side c\"))\n",
    "\n",
    " #calculating the semi-perimeter of the triagle \n",
    "\n",
    "    s = (a+b+c)/2 \n",
    "    \n",
    "    area= math.sqrt(s* (s-a)*(s-b)*(s-c)) #applying herons formula to calculate the area \n",
    "    return area\n",
    "triangleArea()\n",
    "    "
   ]
  },
  {
   "cell_type": "markdown",
   "id": "9f1e8777-ab58-4139-9264-603c2143651e",
   "metadata": {},
   "source": [
    "## QUESTION 4\n",
    "\n",
    "##### Write a program in python to separate odd and even integers in separate arrays. Go to the editor\n",
    "\n",
    "*Test Data*\n",
    "\n",
    "\n",
    "Input the number of elements to be stored in the array :5\n",
    "\n",
    "Input 5 elements in the array :\n",
    "\n",
    "element - 0 : 25\n",
    "\n",
    "element - 1 : 47\n",
    "\n",
    "element - 2 : 42\n",
    "\n",
    "element - 3 : 56\n",
    "\n",
    "element - 4 : 32\n",
    "\n",
    "*Expected Output*\n",
    "\n",
    "*The Even elements are*\n",
    "\n",
    "\n",
    "42 56 32\n",
    "\n",
    "*The Odd elements are* \n",
    "\n"
   ]
  },
  {
   "cell_type": "code",
   "execution_count": 25,
   "id": "ea6bea7a-13bc-4c17-9a2e-7457e62db445",
   "metadata": {},
   "outputs": [
    {
     "name": "stdin",
     "output_type": "stream",
     "text": [
      "input the number of elements to be sorted in array: 6\n",
      "element-0: 1\n",
      "element-1: 2\n",
      "element-2: 3\n",
      "element-3: 4\n",
      "element-4: 5\n",
      "element-5: 6\n"
     ]
    },
    {
     "name": "stdout",
     "output_type": "stream",
     "text": [
      "\n",
      "The even elemnets are:\n",
      "2 4 6 \n",
      "\n",
      "The odd number elements are:\n",
      "1 3 5 "
     ]
    }
   ],
   "source": [
    "def odd_or_even():\n",
    "    n= int(input(\"input the number of elements to be sorted in array:\")) #inputting the array to be worked on\n",
    "    even_numbers= []\n",
    "    odd_numbers= []\n",
    "    for i in range(n):\n",
    "        element =int(input(f\"element-{i}:\"))\n",
    "        if element % 2 == 0:\n",
    "            even_numbers.append(element)\n",
    "        else:\n",
    "            odd_numbers.append(element)\n",
    "\n",
    "    print(\"\\nThe even elemnets are:\")\n",
    "    for num in even_numbers:\n",
    "        print(num, end=' ')\n",
    "\n",
    "    print(\"\\n\\nThe odd number elements are:\")\n",
    "    for num in odd_numbers:\n",
    "        print(num, end=' ')\n",
    "    \n",
    "odd_or_even()\n",
    "    "
   ]
  },
  {
   "cell_type": "markdown",
   "id": "96ca4d7b-dcdf-4927-b0d6-c896c1f3e301",
   "metadata": {},
   "source": [
    "## QUESTION 5\n",
    "\n",
    "##### a. Write a function inside(x,y,x1,y1,x2,y2) that returns True or False depending on whether the point (x,y) lies in the rectangle with lower left \n",
    "\n",
    "##### corner (x1,y1) and upper right corner (x2,y2).\n",
    "\n",
    "+ inside(1,1,0,0,2,3):\n",
    "  \n",
    "  True\n",
    "+ inside(-1,-1,0,0,2,3):\n",
    "  \n",
    "  False\n",
    "\n",
    "##### b. Use function inside() from part a. to write an expression that tests whether the point (1,1) lies in both of the following rectangles: one \n",
    "\n",
    "##### with lower left corner (0.3, 0.5) and upper right corner (1.1, 0.7) and the other with lower left corner (0.5, 0.2) and upper right corner (1.1, 2)."
   ]
  },
  {
   "cell_type": "code",
   "execution_count": null,
   "id": "0df91b3d-7dc0-47d0-a2be-591bc95360af",
   "metadata": {},
   "outputs": [
    {
     "name": "stdin",
     "output_type": "stream",
     "text": [
      "Enter the x-coordinate of the point:  1\n",
      "Enter the y-coordinate of the point:  1\n",
      "Enter the x-coordinate of the lower-left corner :  0\n",
      "Enter the y-coordinate of the lower-left corner :  0\n",
      "Enter the x-coordinate of the upper-right corner:  2\n"
     ]
    }
   ],
   "source": [
    "def inside(x, y, x1, y1, x2, y2):\n",
    "    return x1 <= x <= x2 and y1 <= y <= y2\n",
    "\n",
    "# Get user input for the point coordinates\n",
    "x = float(input(\"Enter the x-coordinate of the point: \"))\n",
    "y = float(input(\"Enter the y-coordinate of the point: \"))\n",
    "\n",
    "# Get user input for the rectangle corners\n",
    "x1 = float(input(\"Enter the x-coordinate of the lower-left corner : \"))\n",
    "y1 = float(input(\"Enter the y-coordinate of the lower-left corner : \"))\n",
    "x2 = float(input(\"Enter the x-coordinate of the upper-right corner: \"))\n",
    "y2 = float(input(\"Enter the y-coordinate of the upper-right corner: \"))\n",
    "\n",
    "# Check if the point is inside the rectangle\n",
    "if inside(x, y, x1, y1, x2, y2):\n",
    "    print('true')\n",
    "else:\n",
    "    print('false')\n",
    "\n",
    "# b. Using the inside() function to test if the point (1, 1) lies in both rectangles:\n",
    "\n",
    "# Testing if point (1,1) lies in both rectangles\n",
    "rect1 = inside(1, 1, 0.3, 0.5, 1.1, 0.7)\n",
    "rect2 = inside(1, 1, 0.5, 0.2, 1.1, 2)\n",
    "\n",
    "# Check if the point (1,1) is inside both rectangles\n",
    "in_both_rectangles = rect1 and rect2\n",
    "\n",
    "print(in_both_rectangles)"
   ]
  },
  {
   "cell_type": "markdown",
   "id": "976e643f-a01b-4052-8eca-086286fc2a5e",
   "metadata": {},
   "source": [
    "## QUESTION 6\n",
    "\n",
    "##### You can turn a word into pig-Latin using the following two rules (simplified):\n",
    "- If the word starts with a consonant, move that letter to the end and append 'ay'. For example, 'happy' becomes 'appyhay' and 'pencil' becomes 'encilpay'.\n",
    "- If the word starts with a vowel, somply append 'way' to the end of the word. For example 'enter' becomes 'enterway' and 'other' becomes 'otherway'.\n",
    "- For our purposes, there are 5 vowels: a,e,i,o,u (so we count y as a consonant).\n",
    "- Write a function pig() that takes a word (i.e., a string) as input ans returns its pig-Latin.\n",
    "- Your function should still work if the input word contains upper case characters. Your output should always be lower case however.\n",
    "\n",
    "  + pig('happy')\n",
    "\n",
    "    appyhay\n",
    "\n",
    "  + pig('enter')\n",
    "\n",
    "    enterway"
   ]
  },
  {
   "cell_type": "code",
   "execution_count": 3,
   "id": "41b0d8f1-69f3-4aa6-bd72-be32e041a87f",
   "metadata": {},
   "outputs": [
    {
     "name": "stdout",
     "output_type": "stream",
     "text": [
      "appyhay\n",
      "enterway\n"
     ]
    }
   ],
   "source": [
    "def pig(name): \n",
    "    name = name.lower() #converting the word into lowercase\n",
    "    \n",
    "    \n",
    "    vowels = 'aeiou' #defining vowels\n",
    "    \n",
    "   \n",
    "    if name[0] in vowels:   #command to check if the first letter is a vowel\n",
    "        return name + 'way'\n",
    "    else:\n",
    "        \n",
    "        return name[1:] + name[0] + 'ay'  # Moving the first consonant to the end and add 'ay'\n",
    "\n",
    "\n",
    "print(pig('happy'))  \n",
    "print(pig('Enter'))"
   ]
  },
  {
   "cell_type": "markdown",
   "id": "dbb3b155-f688-4ab3-b39b-0ef041c7adec",
   "metadata": {},
   "source": [
    "## QUESTION 7\n",
    "\n",
    "##### File bloodtype1.txt records blood-types of patients (A, B, AB, O, OO) at a clinic. Write a function bldcount() that reads the file with name \n",
    "\n",
    "##### name and reports (i.e., prints) how many patients are there in each bloodtype.\n",
    "\n",
    "+ bldcout('bloodtype1.txt')\n",
    "\n",
    "  - There are 10 patients of blood type A.\n",
    "  - There is one patient of blood type B.\n",
    "  - There are 10 patients of blood type AB.\n",
    "  - There are 12 patients of blood type O.\n",
    "  - There are no patients of blood type OO. type OO. type OO."
   ]
  },
  {
   "cell_type": "code",
   "execution_count": 13,
   "id": "55d1880a-d3d8-4e6d-b845-ac2a84227a8b",
   "metadata": {},
   "outputs": [
    {
     "name": "stdout",
     "output_type": "stream",
     "text": [
      "There are 10 patients of blood type A\n",
      "There is one patient of blood type B\n",
      "There are 10 patients of blood type AB\n",
      "There are 12 patients of blood type O\n",
      "There are no patients of blood type OO\n"
     ]
    }
   ],
   "source": [
    "def bldcount(file_name):\n",
    "    \n",
    "    blood_types = {'A': 0, 'B': 0, 'AB': 0, 'O': 0, 'OO': 0} # directory to store blood type counts\n",
    "    \n",
    "   \n",
    "    blood_info = open(file_name, 'r')                        # Open and read the file\n",
    "                                                             # To read the Read the contents and split the data into types of blood \n",
    "    blood_data = blood_info.read().split()\n",
    "    \n",
    "    \n",
    "    for blood_type in blood_data:                             # determining the occurance of blood types\n",
    "        if blood_type in blood_types:\n",
    "            blood_types[blood_type] += 1\n",
    "    \n",
    "    \n",
    "    for blood_type, count in blood_types.items():             # what if statements to print the results\n",
    "        if count == 0:\n",
    "            print(\"There are no patients of blood type {}\".format(blood_type))\n",
    "        elif count == 1:\n",
    "            print(\"There is one patient of blood type {}\".format(blood_type))\n",
    "        else:\n",
    "            print(\"There are {} patients of blood type {}\".format(count, blood_type))\n",
    "\n",
    "\n",
    "bldcount('bloodtype1.txt')"
   ]
  },
  {
   "cell_type": "markdown",
   "id": "565f6a55-512d-434c-b0f3-4070dbd4d67e",
   "metadata": {},
   "source": [
    "## QUESTION 8\n",
    "\n",
    "#### Write a funtion curconv() that takes input:\n",
    "\n",
    "1. a currency represented using a string (e.g., 'JPY' for the Japanese Yen or 'EUR' for the Euro).\n",
    "   \n",
    "2. an amount and then converts and returns the amount in UD dollars.\n",
    "\n",
    "   - curconv('EUR', 100)\n",
    "\n",
    "     122.96544\n",
    "\n",
    "   - curconv('JPY', 100)\n",
    "\n",
    "     1.241401\n",
    "\n",
    "*The currency rates you will need are stored in file currencies.txt*\n",
    "\n",
    "- AUD 1.0345157 Australian Dollar\n",
    "- CHF 1.0237414 Swiss Franc\n",
    "- CNY 0.1550176 C\n",
    "- DKK 0.1651442 Danish Krone\n",
    "- EUR 1.2296544 Euro\n",
    "- GBP 1.5550989 British Pound\n",
    "- HKD 0.1270207 Hong Kong Dollar\n",
    "- INR 0.0177643 Indian Rupee\n",
    "- JPY 0.01241401 Japanese Yen\n",
    "- MXN 0.0751848 Mexican Peso\n",
    "- MYR 0.3145411 Malaysian Ringgit\n",
    "- NOK 0.1677063 Norwegian Krone\n",
    "- NZD 0.8003591 New Zealand Dollar\n",
    "- PHP 0.0233234 Philippine Peso\n",
    "- SEK 0.148269 Swedish Krona\n",
    "- SGD 0.788871 Singapore Dollar\n",
    "- THB 0.0313789 Thai Bahthinese Yuan\n",
    "  "
   ]
  },
  {
   "cell_type": "code",
   "execution_count": 32,
   "id": "96ef42cb-d3da-4c5d-8227-16aeb438886d",
   "metadata": {},
   "outputs": [
    {
     "name": "stdout",
     "output_type": "stream",
     "text": [
      "122.96544\n",
      "1.241401\n"
     ]
    }
   ],
   "source": [
    "def curconv(currency, amount):\n",
    "                                                   \n",
    "    \n",
    "    currency_file = open('currencies.txt', 'r') \n",
    "    for bills in currency_file:\n",
    "        \n",
    "        currency_data = bills.split()\n",
    "       \n",
    "        if currency_data[0] == currency:\n",
    "            \n",
    "            rate = float(currency_data[1])\n",
    "            return amount * rate\n",
    "    \n",
    "   \n",
    "    return \"Currency not found\"\n",
    "\n",
    "\n",
    "print(curconv('EUR',100))\n",
    "print(curconv('JPY',100))"
   ]
  },
  {
   "cell_type": "markdown",
   "id": "9ef382c2-8c47-40c0-ab74-a3e16fe06d73",
   "metadata": {},
   "source": [
    "## QUESTION 9\n",
    "\n",
    "##### Each of the following will cause an exception (an error). Identify what type of exception each will cause.\n",
    "\n",
    "- Trying to add incompatible variables, as in adding 6 + ‘a’   \n",
    "\n",
    "- Referring to the 12th item of a list that has only 10 items  \n",
    "\n",
    "- Using a value that is out of range for a function’s input, such as calling math.sqrt( 1.0)  \n",
    "\n",
    "- Using an undeclared variable, such as print(x) when x has not been defined  \n",
    "\n",
    "- Trying to open a file that does not exist, such as mistyping the file name or looking in the wrong directory\n",
    "\n",
    "  \n",
    "directory. "
   ]
  },
  {
   "cell_type": "markdown",
   "id": "08f16825-fbf3-469d-952f-bbc852cf1f14",
   "metadata": {},
   "source": [
    "a) Trying to add incompatible variables, as in\n",
    "adding 6 + ‘a’ - Type error\n",
    "b) Referring to the 12th item of a list that has only 10 items  -  IndexError\n",
    "c) Using a value that is out of range for a function’s input, such as calling math.sqrt( 1.0)  - ValueError\n",
    "d) Using an undeclared variable, such as print(x) when x has not been defined  - NameError\n",
    "e) Trying to open a file that does not exist, such as mistyping the file name or looking in the wrong directory  -  FileNotFoundError"
   ]
  },
  {
   "cell_type": "markdown",
   "id": "c1e301f1-74eb-41d1-8b4c-2fc2916b9181",
   "metadata": {},
   "source": [
    "## QUESTION 10\n",
    "\n",
    "Encryption is the process of hiding the meaning of a text by substituting letters in the message with other letters, according to some system. If the\n",
    "\n",
    "process is successful, no one but the intended recipient can understand the encrypted message. Cryptanalysis refers to attempts to undo the encryption, \n",
    "\n",
    "even if some details of the encryption are unknown (for example, if an encrypted message has been intercepted). The first step of cryptanalysis is \n",
    "\n",
    "often to build up a table of letter frequencies in the encrypted text. Assume that the string letters is already defined as \n",
    "\n",
    "'abcdefghijklmnopqrstuvwxyz'.\n",
    "\n",
    "*Write a function called frequencies() that takes a string as its only parameter, and returns a list of integers, showing the number of times each character appears in the text. Your function may ignore any characters that are not in letters*\n",
    "\n",
    "- frequencies('The quick red fox got bored and went home.')\n",
    "\n",
    "  [1, 1, 1, 3 ,5 ,1 ,1 ,2 ,1 ,0 ,1 ,0 ,1 ,0 ,1 ,2 ,4 ,0 ,1 ,2 ,1 ,0 ,1 ,1 ,0 ,0]\n",
    "\n",
    "- frequencies('apple')\n",
    "\n",
    "  "
   ]
  },
  {
   "cell_type": "code",
   "execution_count": 11,
   "id": "2986c18a-1707-492a-9b2e-e6b30559c105",
   "metadata": {},
   "outputs": [
    {
     "name": "stdin",
     "output_type": "stream",
     "text": [
      "Enter your text apple\n"
     ]
    },
    {
     "name": "stdout",
     "output_type": "stream",
     "text": [
      "[1, 0, 0, 0, 1, 0, 0, 0, 0, 0, 0, 1, 0, 0, 0, 2, 0, 0, 0, 0, 0, 0, 0, 0, 0, 0]\n"
     ]
    }
   ],
   "source": [
    "def frequencies(text):\n",
    "    # Define the alphabet\n",
    "    letters = 'abcdefghijklmnopqrstuvwxyz'\n",
    "    \n",
    "    # Initialize a list of zeros with the same length as the alphabet\n",
    "    freq_list = [0] * len(letters)\n",
    "    \n",
    "    # Convert the text to lowercase to make the count case-insensitive\n",
    "    text = text.lower()\n",
    "    \n",
    "    # Loop through each character in the text\n",
    "    for char in text:\n",
    "        if char in letters:\n",
    "            # Find the index of the character in the alphabet and increment its count\n",
    "            index = letters.index(char)\n",
    "            freq_list[index] += 1\n",
    "    \n",
    "    return freq_list\n",
    "\n",
    "input_text = input(\"Enter your text\")\n",
    "print(frequencies(input_text))"
   ]
  },
  {
   "cell_type": "markdown",
   "id": "bb7663a3-1ff7-43b4-ab07-a8d41eadbbb8",
   "metadata": {},
   "source": []
  }
 ],
 "metadata": {
  "kernelspec": {
   "display_name": "Python 3 (ipykernel)",
   "language": "python",
   "name": "python3"
  },
  "language_info": {
   "codemirror_mode": {
    "name": "ipython",
    "version": 3
   },
   "file_extension": ".py",
   "mimetype": "text/x-python",
   "name": "python",
   "nbconvert_exporter": "python",
   "pygments_lexer": "ipython3",
   "version": "3.12.4"
  }
 },
 "nbformat": 4,
 "nbformat_minor": 5
}
