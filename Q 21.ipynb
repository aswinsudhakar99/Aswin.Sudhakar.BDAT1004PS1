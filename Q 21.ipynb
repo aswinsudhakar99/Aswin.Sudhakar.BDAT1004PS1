{
 "cells": [
  {
   "cell_type": "code",
   "execution_count": 5,
   "id": "81cbbf03-0706-4778-9b92-68465d79341d",
   "metadata": {},
   "outputs": [
    {
     "ename": "SyntaxError",
     "evalue": "invalid non-printable character U+00A0 (1815301345.py, line 4)",
     "output_type": "error",
     "traceback": [
      "\u001b[1;36m  Cell \u001b[1;32mIn[5], line 4\u001b[1;36m\u001b[0m\n\u001b[1;33m    print (a)\u001b[0m\n\u001b[1;37m         ^\u001b[0m\n\u001b[1;31mSyntaxError\u001b[0m\u001b[1;31m:\u001b[0m invalid non-printable character U+00A0\n"
     ]
    }
   ],
   "source": [
    "a = 0\n",
    "while a<5:\n",
    " a = a+1\n",
    " print (a) "
   ]
  },
  {
   "cell_type": "code",
   "execution_count": 7,
   "id": "08d99725-b276-4d8f-9696-7f39de61e5d7",
   "metadata": {},
   "outputs": [
    {
     "name": "stdout",
     "output_type": "stream",
     "text": [
      "1\n",
      "2\n",
      "3\n",
      "4\n",
      "5\n"
     ]
    }
   ],
   "source": [
    "a = 0\n",
    "while a < 5:\n",
    "    a = a + 1\n",
    "    print(a)\n"
   ]
  },
  {
   "cell_type": "code",
   "execution_count": 9,
   "id": "13959bf0-0fa7-4040-8b7a-e53b5114115a",
   "metadata": {},
   "outputs": [
    {
     "name": "stdout",
     "output_type": "stream",
     "text": [
      "5.0\n",
      "1.3333333333333333\n"
     ]
    }
   ],
   "source": [
    "import math\n",
    "\n",
    "class Point:\n",
    "    def __init__(self, coord_x=0, coord_y=0):\n",
    "        self.coord_x = coord_x\n",
    "        self.coord_y = coord_y\n",
    "\n",
    "class LineSegment:\n",
    "    def __init__(self, start_point, end_point):\n",
    "        self.start_point = start_point\n",
    "        self.end_point = end_point\n",
    "\n",
    "    def length(self):\n",
    "       \n",
    "        return math.sqrt((self.end_point.coord_x - self.start_point.coord_x) ** 2 + \n",
    "                         (self.end_point.coord_y - self.start_point.coord_y) ** 2)\n",
    "\n",
    "    def slope(self):\n",
    "       \n",
    "        if self.end_point.coord_x == self.start_point.coord_x:\n",
    "            return None\n",
    "       \n",
    "        return (self.end_point.coord_y - self.start_point.coord_y) / (self.end_point.coord_x - self.start_point.coord_x)\n",
    "\n",
    "point1 = Point(3, 4)\n",
    "point2 = Point(0, 0)\n",
    "segment = LineSegment(point1, point2)\n",
    "\n",
    "print(segment.length())  \n",
    "print(segment.slope())   \n"
   ]
  },
  {
   "cell_type": "code",
   "execution_count": null,
   "id": "736e0b2f-817d-4154-b168-bf78dc064b83",
   "metadata": {},
   "outputs": [],
   "source": []
  }
 ],
 "metadata": {
  "kernelspec": {
   "display_name": "Python 3 (ipykernel)",
   "language": "python",
   "name": "python3"
  },
  "language_info": {
   "codemirror_mode": {
    "name": "ipython",
    "version": 3
   },
   "file_extension": ".py",
   "mimetype": "text/x-python",
   "name": "python",
   "nbconvert_exporter": "python",
   "pygments_lexer": "ipython3",
   "version": "3.12.4"
  }
 },
 "nbformat": 4,
 "nbformat_minor": 5
}
